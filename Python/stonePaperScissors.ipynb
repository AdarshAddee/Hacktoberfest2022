{
 "cells": [
  {
   "cell_type": "code",
   "execution_count": null,
   "metadata": {},
   "outputs": [],
   "source": [
    "import random\n",
    "print(\"Winning Rules of the Rock paper scissor game as follows: \\n\"\n",
    "\t\t\t\t\t\t\t\t+\"Rock vs paper->paper wins \\n\"\n",
    "\t\t\t\t\t\t\t\t+ \"Rock vs scissor->Rock wins \\n\"\n",
    "\t\t\t\t\t\t\t\t+\"paper vs scissor->scissor wins \\n\")\n",
    "while True:\n",
    "\tprint(\"Enter choice \\n 1 for Rock, \\n 2 for paper, and \\n 3 for scissor \\n\")\n",
    "\tchoice = int(input(\"User turn: \"))\n",
    "\twhile choice > 3 or choice < 1:\n",
    "\t\tchoice = int(input(\"enter valid input: \"))\n",
    "\tif choice == 1:\n",
    "\t\tchoice_name = 'Rock'\n",
    "\telif choice == 2:\n",
    "\t\tchoice_name = 'paper'\n",
    "\telse:\n",
    "\t\tchoice_name = 'scissor'\n",
    "\tprint(\"user choice is: \" + choice_name)\n",
    "\tprint(\"\\nNow its computer turn.......\")\n",
    "\tcomp_choice = random.randint(1, 3)\n",
    "\twhile comp_choice == choice:\n",
    "\t\tcomp_choice = random.randint(1, 3)\n",
    "\tif comp_choice == 1:\n",
    "\t\tcomp_choice_name = 'Rock'\n",
    "\telif comp_choice == 2:\n",
    "\t\tcomp_choice_name = 'paper'\n",
    "\telse:\n",
    "\t\tcomp_choice_name = 'scissor'\n",
    "\t\t\n",
    "\tprint(\"Computer choice is: \" + comp_choice_name)\n",
    "\n",
    "\tprint(choice_name + \" V/s \" + comp_choice_name)\n",
    "\t\n",
    "\tif choice == comp_choice:\n",
    "\t\tprint(\"Draw=> \", end = \"\")\n",
    "\t\tresult = Draw\n",
    "\t\tif((choice == 1 and comp_choice == 2) or\n",
    "\t\t(choice == 2 and comp_choice ==1 )):\n",
    "\t\t\tprint(\"paper wins => \", end = \"\")\n",
    "\t\t\tresult = \"paper\"\n",
    "\n",
    "\t\telif((choice == 1 and comp_choice == 3) or\n",
    "\t\t\t(choice == 3 and comp_choice == 1)):\n",
    "\t\t\tprint(\"Rock wins =>\", end = \"\")\n",
    "\t\t\tresult = \"Rock\"\n",
    "\t\telse:\n",
    "\t\t\tprint(\"scissor wins =>\", end = \"\")\n",
    "\t\t\tresult = \"scissor\"\n",
    "\tif result == Draw:\n",
    "\t\tprint(\"<== Its a tie ==>\")\n",
    "\tif result == choice_name:\n",
    "\t\tprint(\"<== User wins ==>\")\n",
    "\telse:\n",
    "\t\tprint(\"<== Computer wins ==>\")\n",
    "\t\t\n",
    "\tprint(\"Do you want to play again? (Y/N)\")\n",
    "\tans = input().lower\n",
    "\tif ans == 'n':\n",
    "\t\tbreak\n",
    "print(\"\\nThanks for playing\")\n"
   ]
  }
 ],
 "metadata": {
  "kernelspec": {
   "display_name": "Python 3.9.4 64-bit",
   "language": "python",
   "name": "python3"
  },
  "language_info": {
   "name": "python",
   "version": "3.9.4"
  },
  "orig_nbformat": 4,
  "vscode": {
   "interpreter": {
    "hash": "d4970f41f46ce790cdafe88a8a940ddba8dbf2dcf44c9b702cfd5a0d547d9f99"
   }
  }
 },
 "nbformat": 4,
 "nbformat_minor": 2
}
